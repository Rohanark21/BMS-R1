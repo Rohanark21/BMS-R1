{
 "cells": [
  {
   "cell_type": "markdown",
   "metadata": {},
   "source": [
    "# Loading the libraries"
   ]
  },
  {
   "cell_type": "code",
   "execution_count": 3,
   "metadata": {},
   "outputs": [],
   "source": [
    "import numpy as np\n",
    "import scipy.io\n",
    "from initSPKF import initSPKF\n",
    "from iterSPKF import iterSPKF\n",
    "import matplotlib.pyplot as plt\n",
    "np.set_printoptions(formatter={'float_kind':'{:.4f}'.format})"
   ]
  },
  {
   "cell_type": "markdown",
   "metadata": {},
   "source": [
    "# Loading the data files"
   ]
  },
  {
   "cell_type": "code",
   "execution_count": 4,
   "metadata": {},
   "outputs": [],
   "source": [
    "matdata=scipy.io.loadmat('PANdata_P25.mat', simplify_cells=True)\n",
    "rawdata = matdata['DYNData']\n",
    "modeldata=scipy.io.loadmat('PANmodel.mat', simplify_cells=True)"
   ]
  },
  {
   "cell_type": "markdown",
   "metadata": {},
   "source": [
    "# Extracting required data and setting constants"
   ]
  },
  {
   "cell_type": "code",
   "execution_count": 5,
   "metadata": {},
   "outputs": [],
   "source": [
    "T=25\n",
    "eta = rawdata['eta']\n",
    "time = rawdata['script1']['time']\n",
    "deltat = time[1]-time[0]\n",
    "time    = time-time[0]                                     # start time at 0\n",
    "current = rawdata['script1']['current']                    # discharge > 0; charge < 0.\n",
    "voltage = rawdata['script1']['voltage']\n",
    "soc     = rawdata['script1']['soc']\n",
    "\n",
    "# Reserve storage for computed results, for plotting\n",
    "sochat = np.zeros(np.size(soc))\n",
    "socbound = np.zeros(np.size(soc))\n",
    "\n",
    "# Covariance values\n",
    "SigmaX0 = np.diag(np.array([100.0,0.01,0.001]))              # uncertainty of initial state\n",
    "SigmaV = 0.3                                                 # Uncertainty of voltage sensor, output equation\n",
    "SigmaW = 4.0                                                 # Uncertainty of current sensor, state equation"
   ]
  },
  {
   "cell_type": "markdown",
   "metadata": {},
   "source": [
    "# Initiating data structure"
   ]
  },
  {
   "cell_type": "code",
   "execution_count": 6,
   "metadata": {},
   "outputs": [],
   "source": [
    "# Create spkfData structure and initialize variables using first voltage measurement and first temperature measurement\n",
    "spkfData=initSPKF(voltage[0],T,SigmaX0,SigmaV,SigmaW,modeldata)"
   ]
  },
  {
   "cell_type": "markdown",
   "metadata": {},
   "source": [
    "# Main program (iterating and updating values)"
   ]
  },
  {
   "cell_type": "code",
   "execution_count": 7,
   "metadata": {},
   "outputs": [
    {
     "name": "stdout",
     "output_type": "stream",
     "text": [
      "Please be patient. This code will take several hours to execute.\n",
      "\n",
      "  Completed 0 out of 35560 iterations...\n",
      "\n",
      "  Completed 5000 out of 35560 iterations...\n",
      "\n",
      "  Completed 10000 out of 35560 iterations...\n",
      "\n",
      "  Completed 15000 out of 35560 iterations...\n",
      "\n",
      "  Completed 20000 out of 35560 iterations...\n",
      "\n",
      "  Completed 25000 out of 35560 iterations...\n",
      "\n",
      "  Completed 30000 out of 35560 iterations...\n",
      "\n",
      "  Completed 35000 out of 35560 iterations...\n",
      "\n",
      "RMS SOC estimation error = 0.49298%\n",
      "And Percent of time error outside bounds = 0%\n",
      "\n"
     ]
    }
   ],
   "source": [
    "print('Please be patient. This code will take a few seconds to execute.\\n' % ())\n",
    "for k in range(0,len(voltage)):                             #len(voltage)\n",
    "    vk = voltage[k]\n",
    "    ik = current[k]\n",
    "    Tk = T\n",
    "    \n",
    "    # Update SOC (and other model states)\n",
    "    sochat[k],socbound[k],spkfData = iterSPKF(vk,ik,Tk,deltat,spkfData)\n",
    "    # update waitbar periodically, but not too often (slow procedure)\n",
    "    if k % 5000 == 0:\n",
    "        print('  Completed {0} out of {1} iterations...\\n'.format(k,len(voltage)))\n",
    "    ind = np.where(abs(soc-sochat)>socbound)\n",
    "    ind=np.transpose(ind)\n",
    "    \n",
    "print('RMS SOC estimation error = %g%%' % (np.sqrt(np.mean((100 * (soc - sochat)) ** 2))))\n",
    "print('And Percent of time error outside bounds = %g%%\\n' % (len(ind)/len(soc)*100))\n"
   ]
  },
  {
   "cell_type": "markdown",
   "metadata": {},
   "source": [
    "# Plotting results"
   ]
  },
  {
   "cell_type": "code",
   "execution_count": 8,
   "metadata": {},
   "outputs": [
    {
     "data": {
      "image/png": "[encoded data removed]",
      "text/plain": [
       "<Figure size 432x288 with 2 Axes>"
      ]
     },
     "metadata": {
      "needs_background": "light"
     },
     "output_type": "display_data"
    },
    {
     "name": "stdout",
     "output_type": "stream",
     "text": [
      "zhala\n"
     ]
    }
   ],
   "source": [
    "### plotting program ###\n",
    "plt.subplot(1,2,1)\n",
    "plt.plot(time / 60,100 * sochat,time / 60,100 * soc,linewidth=0.5)\n",
    "plt.plot(time/60,100*(sochat+socbound),time/60,100*(sochat-socbound),color='green',linewidth=0.5)\n",
    "plt.title('SOC estimation using SPKF')\n",
    "plt.grid('on')\n",
    "plt.xlabel('Time (min)')\n",
    "plt.ylabel('SOC (%)')\n",
    "plt.legend(('Estimate','Truth','Bounds'))\n",
    "\n",
    "plt.subplot(1,2,2)\n",
    "plt.plot(time / 60,100 * (soc - sochat),linewidth=0.5)\n",
    "plt.plot(time/60,100*socbound,time/60,-100*socbound,color='m',linewidth=0.5)\n",
    "plt.title('SOC estimation errors using SPKF')\n",
    "plt.xlabel('Time (min)')\n",
    "plt.ylabel('SOC error (%)')\n",
    "plt.ylim(np.array([- 4,4]))\n",
    "plt.legend(('Estimation error','Bounds'))\n",
    "plt.grid('on')\n",
    "plt.show()\n",
    "print(\"zhala\")"
   ]
  },
  {
   "cell_type": "code",
   "execution_count": null,
   "metadata": {},
   "outputs": [],
   "source": []
  }
 ],
 "metadata": {
  "kernelspec": {
   "display_name": "Python 3 (ipykernel)",
   "language": "python",
   "name": "python3"
  },
  "language_info": {
   "codemirror_mode": {
    "name": "ipython",
    "version": 3
   },
   "file_extension": ".py",
   "mimetype": "text/x-python",
   "name": "python",
   "nbconvert_exporter": "python",
   "pygments_lexer": "ipython3",
   "version": "3.8.3"
  }
 },
 "nbformat": 4,
 "nbformat_minor": 4
}
